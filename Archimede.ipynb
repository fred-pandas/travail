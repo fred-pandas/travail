{
 "cells": [
  {
   "cell_type": "markdown",
   "metadata": {},
   "source": [
    "http://www.bibmath.net/dico/index.php?action=affiche&quoi=./a/archimede.html"
   ]
  },
  {
   "cell_type": "code",
   "execution_count": 1,
   "metadata": {
    "collapsed": true
   },
   "outputs": [],
   "source": [
    "from math import *"
   ]
  },
  {
   "cell_type": "code",
   "execution_count": 2,
   "metadata": {
    "collapsed": true
   },
   "outputs": [],
   "source": [
    "def archimède(n):\n",
    "    s=3\n",
    "    t=6/sqrt(3)\n",
    "    for k in range(1,n+1):\n",
    "        t=2*s*t/(s+t)\n",
    "        s=sqrt(s*t)\n",
    "        print('Etape k =',k)\n",
    "        print('s=',s)\n",
    "        print('t=',t)\n",
    "        print('-'*10)"
   ]
  },
  {
   "cell_type": "code",
   "execution_count": 3,
   "metadata": {},
   "outputs": [
    {
     "name": "stdout",
     "output_type": "stream",
     "text": [
      "Etape k = 1\n",
      "s= 3.1058285412302493\n",
      "t= 3.2153903091734723\n",
      "----------\n",
      "Etape k = 2\n",
      "s= 3.1326286132812386\n",
      "t= 3.159659942097501\n",
      "----------\n",
      "Etape k = 3\n",
      "s= 3.1393502030468676\n",
      "t= 3.1460862151314357\n",
      "----------\n",
      "Etape k = 4\n",
      "s= 3.1410319508905102\n",
      "t= 3.1427145996453687\n",
      "----------\n",
      "Etape k = 5\n",
      "s= 3.1414524722854624\n",
      "t= 3.141873049979824\n",
      "----------\n"
     ]
    }
   ],
   "source": [
    "archimède(5)"
   ]
  },
  {
   "cell_type": "code",
   "execution_count": 4,
   "metadata": {},
   "outputs": [
    {
     "name": "stdout",
     "output_type": "stream",
     "text": [
      "3.0985915492957745 3.142857142857143\n"
     ]
    }
   ],
   "source": [
    "print(220/71,22/7)"
   ]
  },
  {
   "cell_type": "code",
   "execution_count": 15,
   "metadata": {},
   "outputs": [],
   "source": [
    "from decimal import Decimal,getcontext"
   ]
  },
  {
   "cell_type": "code",
   "execution_count": 6,
   "metadata": {},
   "outputs": [
    {
     "name": "stdout",
     "output_type": "stream",
     "text": [
      "1.732050807568877293527446342\n",
      "0.866025403784438646763723171\n"
     ]
    }
   ],
   "source": [
    "x=Decimal('3').sqrt()\n",
    "y=x/2\n",
    "print(x)\n",
    "print(y)"
   ]
  },
  {
   "cell_type": "code",
   "execution_count": 7,
   "metadata": {
    "collapsed": true
   },
   "outputs": [],
   "source": [
    "getcontext().prec=50"
   ]
  },
  {
   "cell_type": "code",
   "execution_count": 8,
   "metadata": {
    "collapsed": true
   },
   "outputs": [],
   "source": [
    "def nb_décimales(a,b):\n",
    "    sa=str(a)\n",
    "    sb=str(b)\n",
    "    k=2\n",
    "    while sa[k]==sb[k]:\n",
    "        k=k+1\n",
    "    return k-2"
   ]
  },
  {
   "cell_type": "code",
   "execution_count": 9,
   "metadata": {},
   "outputs": [],
   "source": [
    "def archimède(n):\n",
    "    s=Decimal('3')\n",
    "    t=Decimal('6')/Decimal('3').sqrt()\n",
    "    for k in range(1,n+1):\n",
    "        t=2*s*t/(s+t)\n",
    "        s=(s*t).sqrt()\n",
    "        print('Etape k =',k)\n",
    "        print('s=',s)\n",
    "        print('t=',t)\n",
    "        print('nombre des premières décimales communes=',nb_décimales(t,s))\n",
    "        print('-'*10)"
   ]
  },
  {
   "cell_type": "code",
   "execution_count": 10,
   "metadata": {},
   "outputs": [
    {
     "name": "stdout",
     "output_type": "stream",
     "text": [
      "Etape k = 1\n",
      "s= 3.1058285412302491481867860514885799401888268158392\n",
      "t= 3.2153903091734724776706439019295315966863369542754\n",
      "nombre des premières décimales communes= 0\n",
      "----------\n"
     ]
    }
   ],
   "source": [
    "archimède(1)"
   ]
  },
  {
   "cell_type": "code",
   "execution_count": 11,
   "metadata": {},
   "outputs": [
    {
     "name": "stdout",
     "output_type": "stream",
     "text": [
      "3.1428571428571428571428571428571428571428571428571\n"
     ]
    }
   ],
   "source": [
    "print(Decimal('22')/7)"
   ]
  },
  {
   "cell_type": "code",
   "execution_count": 12,
   "metadata": {
    "collapsed": true
   },
   "outputs": [],
   "source": [
    "from math import *"
   ]
  },
  {
   "cell_type": "code",
   "execution_count": 13,
   "metadata": {},
   "outputs": [
    {
     "ename": "NameError",
     "evalue": "name 'archimède_bis' is not defined",
     "output_type": "error",
     "traceback": [
      "\u001b[0;31m---------------------------------------------------------------------------\u001b[0m",
      "\u001b[0;31mNameError\u001b[0m                                 Traceback (most recent call last)",
      "\u001b[0;32m<ipython-input-13-047370f433d0>\u001b[0m in \u001b[0;36m<module>\u001b[0;34m()\u001b[0m\n\u001b[0;32m----> 1\u001b[0;31m \u001b[0marchimède_bis\u001b[0m\u001b[1;33m(\u001b[0m\u001b[1;36m6\u001b[0m\u001b[1;33m)\u001b[0m\u001b[1;33m\u001b[0m\u001b[0m\n\u001b[0m",
      "\u001b[0;31mNameError\u001b[0m: name 'archimède_bis' is not defined"
     ]
    }
   ],
   "source": [
    "archimède_bis(6)"
   ]
  },
  {
   "cell_type": "code",
   "execution_count": null,
   "metadata": {
    "collapsed": true
   },
   "outputs": [],
   "source": [
    "def Archimède(n):\n",
    "    s=Decimal('3')\n",
    "    t=Decimal('6')/Decimal('3').sqrt()\n",
    "    L=[]\n",
    "    for k in range(1,n+1):\n",
    "        t=2*s*t/(s+t)\n",
    "        s=(s*t).sqrt()\n",
    "        L.append(nb_décimales(t,s))\n",
    "    return L"
   ]
  },
  {
   "cell_type": "code",
   "execution_count": null,
   "metadata": {
    "collapsed": true
   },
   "outputs": [],
   "source": [
    "getcontext().prec=1000"
   ]
  },
  {
   "cell_type": "code",
   "execution_count": null,
   "metadata": {},
   "outputs": [],
   "source": [
    "import pylab as pl\n",
    "N=range(1,101)\n",
    "L=Archimède(100)\n",
    "pl.plot(N,L,'-')\n",
    "pl.xticks([1]+list(range(5,100,5))+[100])\n",
    "pl.grid()\n",
    "pl.show()"
   ]
  },
  {
   "cell_type": "code",
   "execution_count": null,
   "metadata": {
    "collapsed": true
   },
   "outputs": [],
   "source": [
    "def Archimède_bis(n):\n",
    "    s=3\n",
    "    t=6/sqrt(3)\n",
    "    L=[]\n",
    "    for k in range(1,n):\n",
    "        t=2*s*t/(s+t)\n",
    "        s=sqrt(s*t)\n",
    "        L.append(nb_décimales(t,s))\n",
    "    return L"
   ]
  },
  {
   "cell_type": "code",
   "execution_count": null,
   "metadata": {},
   "outputs": [],
   "source": [
    "LD=Archimède(100)\n",
    "LF=Archimède_bis(20)"
   ]
  },
  {
   "cell_type": "code",
   "execution_count": null,
   "metadata": {},
   "outputs": [],
   "source": [
    "for a,b in zip(LD,LF):\n",
    "    print(a,b)"
   ]
  },
  {
   "cell_type": "code",
   "execution_count": null,
   "metadata": {
    "collapsed": true
   },
   "outputs": [],
   "source": []
  }
 ],
 "metadata": {
  "kernelspec": {
   "display_name": "Python 3",
   "language": "python",
   "name": "python3"
  },
  "language_info": {
   "codemirror_mode": {
    "name": "ipython",
    "version": 3
   },
   "file_extension": ".py",
   "mimetype": "text/x-python",
   "name": "python",
   "nbconvert_exporter": "python",
   "pygments_lexer": "ipython3",
   "version": "3.6.0"
  }
 },
 "nbformat": 4,
 "nbformat_minor": 2
}
